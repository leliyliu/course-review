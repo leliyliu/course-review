{
 "cells": [
  {
   "cell_type": "code",
   "execution_count": 1,
   "metadata": {
    "collapsed": true
   },
   "outputs": [],
   "source": [
    "import numpy as np\n",
    "import matplotlib.pyplot as plt\n",
    "%matplotlib inline"
   ]
  },
  {
   "cell_type": "code",
   "execution_count": 2,
   "metadata": {
    "collapsed": true
   },
   "outputs": [],
   "source": [
    "x_train = np.loadtxt('final_train.txt',dtype=float)\n",
    "y_train = np.loadtxt('y_train.txt',dtype=float)\n",
    "x_validation = np.loadtxt('final_validation.txt',dtype=float)\n",
    "y_validation = np.loadtxt('y_validation.txt',dtype=float)\n",
    "x_test = np.loadtxt('final_test.txt',dtype=float)\n",
    "y_test = np.loadtxt('y_test.txt',dtype=float)"
   ]
  },
  {
   "cell_type": "code",
   "execution_count": 6,
   "metadata": {},
   "outputs": [],
   "source": [
    "x_train[:,12] = -x_train[:,12]"
   ]
  },
  {
   "cell_type": "code",
   "execution_count": 7,
   "metadata": {},
   "outputs": [
    {
     "name": "stderr",
     "output_type": "stream",
     "text": [
      "D:\\software\\anaconda\\envs\\torch\\lib\\site-packages\\ipykernel_launcher.py:1: MatplotlibDeprecationWarning: \n",
      "The 'normed' kwarg was deprecated in Matplotlib 2.1 and will be removed in 3.1. Use 'density' instead.\n",
      "  \"\"\"Entry point for launching an IPython kernel.\n"
     ]
    },
    {
     "data": {
      "text/plain": [
       "([array([0.00015363, 0.        , 0.        , 0.        , 0.        ,\n",
       "         0.        , 0.        , 0.        , 0.        , 0.        ]),\n",
       "  array([0.00015363, 0.        , 0.        , 0.        , 0.        ,\n",
       "         0.        , 0.        , 0.        , 0.        , 0.        ]),\n",
       "  array([0.00015363, 0.        , 0.        , 0.        , 0.        ,\n",
       "         0.        , 0.        , 0.        , 0.        , 0.        ]),\n",
       "  array([0.00015363, 0.        , 0.        , 0.        , 0.        ,\n",
       "         0.        , 0.        , 0.        , 0.        , 0.        ]),\n",
       "  array([0.00015363, 0.        , 0.        , 0.        , 0.        ,\n",
       "         0.        , 0.        , 0.        , 0.        , 0.        ]),\n",
       "  array([0.00015363, 0.        , 0.        , 0.        , 0.        ,\n",
       "         0.        , 0.        , 0.        , 0.        , 0.        ]),\n",
       "  array([0.00015363, 0.        , 0.        , 0.        , 0.        ,\n",
       "         0.        , 0.        , 0.        , 0.        , 0.        ]),\n",
       "  array([0.00015363, 0.        , 0.        , 0.        , 0.        ,\n",
       "         0.        , 0.        , 0.        , 0.        , 0.        ]),\n",
       "  array([0.00015363, 0.        , 0.        , 0.        , 0.        ,\n",
       "         0.        , 0.        , 0.        , 0.        , 0.        ]),\n",
       "  array([0.00015363, 0.        , 0.        , 0.        , 0.        ,\n",
       "         0.        , 0.        , 0.        , 0.        , 0.        ]),\n",
       "  array([0.00015363, 0.        , 0.        , 0.        , 0.        ,\n",
       "         0.        , 0.        , 0.        , 0.        , 0.        ]),\n",
       "  array([0.00015363, 0.        , 0.        , 0.        , 0.        ,\n",
       "         0.        , 0.        , 0.        , 0.        , 0.        ]),\n",
       "  array([1.49823622e-04, 1.53645556e-06, 4.03319584e-07, 5.37759445e-07,\n",
       "         4.03319584e-07, 4.60936667e-07, 2.88085417e-07, 7.68227778e-08,\n",
       "         3.84113889e-08, 5.76170834e-08]),\n",
       "  array([0.00015363, 0.        , 0.        , 0.        , 0.        ,\n",
       "         0.        , 0.        , 0.        , 0.        , 0.        ])],\n",
       " array([-1.00000e+00,  6.50830e+03,  1.30176e+04,  1.95269e+04,\n",
       "         2.60362e+04,  3.25455e+04,  3.90548e+04,  4.55641e+04,\n",
       "         5.20734e+04,  5.85827e+04,  6.50920e+04]),\n",
       " <a list of 14 Lists of Patches objects>)"
      ]
     },
     "execution_count": 7,
     "metadata": {},
     "output_type": "execute_result"
    },
    {
     "data": {
      "image/png": "[encoded data removed]",
      "text/plain": [
       "<Figure size 432x288 with 1 Axes>"
      ]
     },
     "metadata": {},
     "output_type": "display_data"
    }
   ],
   "source": [
    "plt.hist(x_train,normed=True)"
   ]
  },
  {
   "cell_type": "code",
   "execution_count": 44,
   "metadata": {},
   "outputs": [
    {
     "name": "stderr",
     "output_type": "stream",
     "text": [
      "No handles with labels found to put in legend.\n"
     ]
    },
    {
     "name": "stdout",
     "output_type": "stream",
     "text": [
      "747.0455097087379\n",
      "689.2039800995025\n"
     ]
    },
    {
     "data": {
      "image/png": "[encoded data removed]",
      "text/plain": [
       "<Figure size 432x288 with 1 Axes>"
      ]
     },
     "metadata": {},
     "output_type": "display_data"
    }
   ],
   "source": [
    "answered_time,noanswer_time = [],[]\n",
    "for i,x in enumerate(y_train):\n",
    "    if x==0:\n",
    "        noanswer_time.append(x_train[i,12])\n",
    "    else:\n",
    "        answered_time.append(x_train[i,12])\n",
    "noanswer_time,answered_time = np.array(noanswer_time),np.array(answered_time)\n",
    "print(np.mean(noanswer_time))\n",
    "print(np.mean(answered_time))"
   ]
  },
  {
   "cell_type": "code",
   "execution_count": 46,
   "metadata": {},
   "outputs": [
    {
     "name": "stderr",
     "output_type": "stream",
     "text": [
      "D:\\software\\anaconda\\envs\\torch\\lib\\site-packages\\ipykernel_launcher.py:2: MatplotlibDeprecationWarning: \n",
      "The 'normed' kwarg was deprecated in Matplotlib 2.1 and will be removed in 3.1. Use 'density' instead.\n",
      "  \n",
      "D:\\software\\anaconda\\envs\\torch\\lib\\site-packages\\ipykernel_launcher.py:3: MatplotlibDeprecationWarning: \n",
      "The 'normed' kwarg was deprecated in Matplotlib 2.1 and will be removed in 3.1. Use 'density' instead.\n",
      "  This is separate from the ipykernel package so we can avoid doing imports until\n"
     ]
    },
    {
     "data": {
      "text/plain": [
       "<matplotlib.legend.Legend at 0x24c8d247710>"
      ]
     },
     "execution_count": 46,
     "metadata": {},
     "output_type": "execute_result"
    },
    {
     "data": {
      "image/png": "[encoded data removed]",
      "text/plain": [
       "<Figure size 432x288 with 1 Axes>"
      ]
     },
     "metadata": {},
     "output_type": "display_data"
    }
   ],
   "source": [
    "plt.xlim(0,10000)\n",
    "plt.hist(noanswer_time,bins = 100,normed = True,color = 'r',label='noanswer')\n",
    "plt.hist(answered_time,bins = 100,normed=True,color = 'b',label='answered')\n",
    "plt.legend()"
   ]
  },
  {
   "cell_type": "code",
   "execution_count": 30,
   "metadata": {},
   "outputs": [],
   "source": [
    "def frequency(x_train,y_train):\n",
    "    num_no = np.zeros(5)\n",
    "    num_yes = np.zeros(5)\n",
    "    for i,x in enumerate(y_train):\n",
    "        if x==0:\n",
    "            num_no[int(x_train[i,5])] += 1\n",
    "        else:\n",
    "            num_yes[int(x_train[i,5])] += 1\n",
    "    plt.bar([1,3,5,7,9], num_yes, label='answered')\n",
    "    plt.bar([2,4,6,8,10], num_no, label='not answer')\n",
    "\n",
    "    xlabels = ['un','un','mo','mo','we','we','da','da','ne','ne']\n",
    "    plt.xticks(range(1,11), xlabels)\n",
    "    # params\n",
    "\n",
    "    # x: 条形图x轴\n",
    "    # y：条形图的高度\n",
    "    # width：条形图的宽度 默认是0.8\n",
    "    # bottom：条形底部的y坐标值 默认是0\n",
    "    # align：center / edge 条形图是否以x轴坐标为中心点或者是以x轴坐标为边缘\n",
    "\n",
    "    plt.legend()\n",
    "\n",
    "    plt.xlabel('number')\n",
    "    plt.ylabel('value')\n",
    "\n",
    "    plt.title(u'frequency and res')\n",
    "\n",
    "    print(num_yes/num_no)"
   ]
  },
  {
   "cell_type": "code",
   "execution_count": 31,
   "metadata": {},
   "outputs": [
    {
     "name": "stdout",
     "output_type": "stream",
     "text": [
      "[0.43902439 0.31586608 0.20136519 0.18459495 0.38505747]\n"
     ]
    },
    {
     "data": {
      "image/png": "[encoded data removed]",
      "text/plain": [
       "<Figure size 432x288 with 1 Axes>"
      ]
     },
     "metadata": {},
     "output_type": "display_data"
    }
   ],
   "source": [
    "frequency(x_train,y_train)"
   ]
  },
  {
   "cell_type": "code",
   "execution_count": 32,
   "metadata": {},
   "outputs": [
    {
     "name": "stdout",
     "output_type": "stream",
     "text": [
      "[0.66666667 0.17977528 0.1810585  0.1875     0.5       ]\n"
     ]
    },
    {
     "data": {
      "image/png": "[encoded data removed]",
      "text/plain": [
       "<Figure size 432x288 with 1 Axes>"
      ]
     },
     "metadata": {},
     "output_type": "display_data"
    }
   ],
   "source": [
    "frequency(x_validation,y_validation)"
   ]
  },
  {
   "cell_type": "code",
   "execution_count": 33,
   "metadata": {},
   "outputs": [
    {
     "name": "stdout",
     "output_type": "stream",
     "text": [
      "[0.5625     0.4556962  0.22903226 0.20643432 0.45      ]\n"
     ]
    },
    {
     "data": {
      "image/png": "[encoded data removed]",
      "text/plain": [
       "<Figure size 432x288 with 1 Axes>"
      ]
     },
     "metadata": {},
     "output_type": "display_data"
    }
   ],
   "source": [
    "frequency(x_test,y_test)"
   ]
  },
  {
   "cell_type": "code",
   "execution_count": 38,
   "metadata": {},
   "outputs": [],
   "source": [
    "def lengthres(x_train,y_train):\n",
    "    contain1,contain2 = [] , []\n",
    "    for i,x in enumerate(y_train):\n",
    "        if(x):\n",
    "            contain1.append(x_train[i,:4])\n",
    "        else:\n",
    "            contain2.append(x_train[i,:4])\n",
    "    contain1 = np.array(contain1).reshape(-1,4)\n",
    "    contain2 = np.array(contain2).reshape(-1,4)\n",
    "\n",
    "    yes = np.mean(contain1,axis = 0)\n",
    "    no = np.mean(contain2,axis =0)\n",
    "    xlabels = ['st','st','wt','wt','sd','sd','wd','wd']\n",
    "    plt.xticks(range(1,9), xlabels)\n",
    "    plt.bar([1,3,5,7], yes, label='answered')\n",
    "    plt.bar([2,4,6,8], no, label='not answer')\n",
    "\n",
    "    # params\n",
    "\n",
    "    # x: 条形图x轴\n",
    "    # y：条形图的高度\n",
    "    # width：条形图的宽度 默认是0.8\n",
    "    # bottom：条形底部的y坐标值 默认是0\n",
    "    # align：center / edge 条形图是否以x轴坐标为中心点或者是以x轴坐标为边缘\n",
    "\n",
    "    plt.legend()\n",
    "\n",
    "    plt.xlabel('number')\n",
    "    plt.ylabel('value')\n",
    "\n",
    "    plt.title(u'length and res')\n",
    "    print(yes/no)"
   ]
  },
  {
   "cell_type": "code",
   "execution_count": 39,
   "metadata": {},
   "outputs": [
    {
     "name": "stdout",
     "output_type": "stream",
     "text": [
      "[1.01677264 0.98747618 1.179936   1.14694181]\n"
     ]
    },
    {
     "data": {
      "image/png": "[encoded data removed]",
      "text/plain": [
       "<Figure size 432x288 with 1 Axes>"
      ]
     },
     "metadata": {},
     "output_type": "display_data"
    }
   ],
   "source": [
    "lengthres(x_train,y_train)"
   ]
  },
  {
   "cell_type": "code",
   "execution_count": 40,
   "metadata": {},
   "outputs": [
    {
     "name": "stdout",
     "output_type": "stream",
     "text": [
      "[0.9666679  0.90628517 0.93269666 0.88167609]\n"
     ]
    },
    {
     "data": {
      "image/png": "[encoded data removed]",
      "text/plain": [
       "<Figure size 432x288 with 1 Axes>"
      ]
     },
     "metadata": {},
     "output_type": "display_data"
    }
   ],
   "source": [
    "lengthres(x_validation,y_validation)\n"
   ]
  },
  {
   "cell_type": "code",
   "execution_count": 41,
   "metadata": {},
   "outputs": [
    {
     "name": "stdout",
     "output_type": "stream",
     "text": [
      "[0.99691864 0.96807607 1.34213718 1.42357846]\n"
     ]
    },
    {
     "data": {
      "image/png": "[encoded data removed]",
      "text/plain": [
       "<Figure size 432x288 with 1 Axes>"
      ]
     },
     "metadata": {},
     "output_type": "display_data"
    }
   ],
   "source": [
    "lengthres(x_test,y_test)"
   ]
  },
  {
   "cell_type": "code",
   "execution_count": 63,
   "metadata": {
    "collapsed": true
   },
   "outputs": [],
   "source": [
    "def bincla(X,y,title):\n",
    "    n0,n1,y0,y1 = 0,0,0,0\n",
    "    for i,x in enumerate(y):\n",
    "        if x==0:\n",
    "            if X[i] == 0:\n",
    "                n0 +=1\n",
    "            else:\n",
    "                n1 +=1\n",
    "        else:\n",
    "            if X[i] ==0:\n",
    "                y0 +=1\n",
    "            else:\n",
    "                y1 +=1\n",
    "    plt.bar(['n0','n1','y0','y1'],[n0,n1,y0,y1])\n",
    "    print('n0: %d n1:%d y0:%d y1:%d'%(n0,n1,y0,y1))\n",
    "    plt.title(title)"
   ]
  },
  {
   "cell_type": "code",
   "execution_count": 64,
   "metadata": {},
   "outputs": [
    {
     "name": "stdout",
     "output_type": "stream",
     "text": [
      "n0: 2212 n1:4380 y0:421 y1:986\n"
     ]
    },
    {
     "data": {
      "image/png": "[encoded data removed]",
      "text/plain": [
       "<Figure size 432x288 with 1 Axes>"
      ]
     },
     "metadata": {},
     "output_type": "display_data"
    }
   ],
   "source": [
    "title = 'class A and res'\n",
    "bincla(x_train[:,6].reshape(-1),y_train,title)"
   ]
  },
  {
   "cell_type": "code",
   "execution_count": 65,
   "metadata": {},
   "outputs": [
    {
     "name": "stdout",
     "output_type": "stream",
     "text": [
      "n0: 4510 n1:2082 y0:1045 y1:362\n"
     ]
    },
    {
     "data": {
      "image/png": "[encoded data removed]",
      "text/plain": [
       "<Figure size 432x288 with 1 Axes>"
      ]
     },
     "metadata": {},
     "output_type": "display_data"
    }
   ],
   "source": [
    "title = 'class B and res'\n",
    "bincla(x_train[:,7].reshape(-1),y_train,title)"
   ]
  },
  {
   "cell_type": "code",
   "execution_count": 66,
   "metadata": {},
   "outputs": [
    {
     "name": "stdout",
     "output_type": "stream",
     "text": [
      "n0: 6328 n1:264 y0:1372 y1:35\n"
     ]
    },
    {
     "data": {
      "image/png": "[encoded data removed]",
      "text/plain": [
       "<Figure size 432x288 with 1 Axes>"
      ]
     },
     "metadata": {},
     "output_type": "display_data"
    }
   ],
   "source": [
    "title = 'class C and res'\n",
    "bincla(x_train[:,8].reshape(-1),y_train,title)"
   ]
  },
  {
   "cell_type": "code",
   "execution_count": 67,
   "metadata": {},
   "outputs": [
    {
     "name": "stdout",
     "output_type": "stream",
     "text": [
      "n0: 4940 n1:1652 y0:1090 y1:317\n"
     ]
    },
    {
     "data": {
      "image/png": "[encoded data removed]",
      "text/plain": [
       "<Figure size 432x288 with 1 Axes>"
      ]
     },
     "metadata": {},
     "output_type": "display_data"
    }
   ],
   "source": [
    "title = 'class D and res'\n",
    "bincla(x_train[:,9].reshape(-1),y_train,title)"
   ]
  },
  {
   "cell_type": "code",
   "execution_count": 68,
   "metadata": {},
   "outputs": [
    {
     "name": "stdout",
     "output_type": "stream",
     "text": [
      "n0: 6149 n1:443 y0:1308 y1:99\n"
     ]
    },
    {
     "data": {
      "image/png": "[encoded data removed]",
      "text/plain": [
       "<Figure size 432x288 with 1 Axes>"
      ]
     },
     "metadata": {},
     "output_type": "display_data"
    }
   ],
   "source": [
    "title = 'class E and res'\n",
    "bincla(x_train[:,10].reshape(-1),y_train,title)"
   ]
  },
  {
   "cell_type": "code",
   "execution_count": 84,
   "metadata": {
    "collapsed": true
   },
   "outputs": [],
   "source": [
    "def saltvalue(X,Y):\n",
    "    yes , no = [],[]\n",
    "    for i,x in enumerate(Y):\n",
    "        if x==0:\n",
    "            no.append(X[i])\n",
    "        else:\n",
    "            yes.append(X[i])\n",
    "    \n",
    "    print('no',np.mean(np.array(no)))\n",
    "    print('yes',np.mean(np.array(yes)))\n",
    "    plt.hist(no,bins = 100,normed = True,color = 'r',label='noanswer')\n",
    "    plt.hist(yes,bins = 100,normed=True,color = 'b',label='answered')\n",
    "    plt.legend()\n",
    "    #plt.xlim(0,10000)\n"
   ]
  },
  {
   "cell_type": "code",
   "execution_count": 85,
   "metadata": {},
   "outputs": [
    {
     "name": "stdout",
     "output_type": "stream",
     "text": [
      "no 143.18977548543688\n",
      "yes 155.8137882018479\n"
     ]
    },
    {
     "name": "stderr",
     "output_type": "stream",
     "text": [
      "D:\\software\\anaconda\\envs\\torch\\lib\\site-packages\\ipykernel_launcher.py:11: MatplotlibDeprecationWarning: \n",
      "The 'normed' kwarg was deprecated in Matplotlib 2.1 and will be removed in 3.1. Use 'density' instead.\n",
      "  # This is added back by InteractiveShellApp.init_path()\n",
      "D:\\software\\anaconda\\envs\\torch\\lib\\site-packages\\ipykernel_launcher.py:12: MatplotlibDeprecationWarning: \n",
      "The 'normed' kwarg was deprecated in Matplotlib 2.1 and will be removed in 3.1. Use 'density' instead.\n",
      "  if sys.path[0] == '':\n"
     ]
    },
    {
     "data": {
      "image/png": "[encoded data removed]",
      "text/plain": [
       "<Figure size 432x288 with 1 Axes>"
      ]
     },
     "metadata": {},
     "output_type": "display_data"
    }
   ],
   "source": [
    "saltvalue(x_train[:,13].reshape(-1),y_train)"
   ]
  },
  {
   "cell_type": "code",
   "execution_count": 86,
   "metadata": {},
   "outputs": [
    {
     "data": {
      "text/plain": [
       "0.0"
      ]
     },
     "execution_count": 86,
     "metadata": {},
     "output_type": "execute_result"
    }
   ],
   "source": [
    "x_train[:,13].min()"
   ]
  },
  {
   "cell_type": "code",
   "execution_count": 88,
   "metadata": {},
   "outputs": [
    {
     "data": {
      "text/plain": [
       "145.41030128766096"
      ]
     },
     "execution_count": 88,
     "metadata": {},
     "output_type": "execute_result"
    }
   ],
   "source": [
    "x_train[:,13].mean()"
   ]
  },
  {
   "cell_type": "code",
   "execution_count": 89,
   "metadata": {
    "collapsed": true
   },
   "outputs": [],
   "source": [
    "def gend(X,y,title):\n",
    "    my,mn,fy,fn = 0,0,0,0\n",
    "    for i,x in enumerate(y):\n",
    "        if x==0:\n",
    "            if X[i] == 1:\n",
    "                mn +=1\n",
    "            else:\n",
    "                fn +=1\n",
    "        else:\n",
    "            if X[i] ==1:\n",
    "                my +=1\n",
    "            else:\n",
    "                fy +=1\n",
    "    plt.bar(['ma_yes','ma_no','fe_yes','fe_no'],[my,mn,fy,fn])\n",
    "    print('male yes: %d male no:%d fe_yes:%d fe_no:%d'%(my,mn,fy,fn))\n",
    "    plt.title(title)"
   ]
  },
  {
   "cell_type": "code",
   "execution_count": 91,
   "metadata": {},
   "outputs": [
    {
     "name": "stdout",
     "output_type": "stream",
     "text": [
      "male yes: 384 male no:1842 fe_yes:1023 fe_no:4750\n"
     ]
    },
    {
     "data": {
      "image/png": "[encoded data removed]",
      "text/plain": [
       "<Figure size 432x288 with 1 Axes>"
      ]
     },
     "metadata": {},
     "output_type": "display_data"
    }
   ],
   "source": [
    "gend(x_train[:,4].reshape(-1),y_train,'gender')"
   ]
  },
  {
   "cell_type": "code",
   "execution_count": 95,
   "metadata": {},
   "outputs": [
    {
     "name": "stdout",
     "output_type": "stream",
     "text": [
      "male yes: 49 male no:224 fe_yes:113 fe_no:614\n"
     ]
    },
    {
     "data": {
      "image/png": "[encoded data removed]",
      "text/plain": [
       "<Figure size 432x288 with 1 Axes>"
      ]
     },
     "metadata": {},
     "output_type": "display_data"
    }
   ],
   "source": [
    "gend(x_validation[:,4].reshape(-1),y_validation,'gender')"
   ]
  },
  {
   "cell_type": "code",
   "execution_count": 96,
   "metadata": {},
   "outputs": [
    {
     "data": {
      "text/plain": [
       "0.21875"
      ]
     },
     "execution_count": 96,
     "metadata": {},
     "output_type": "execute_result"
    }
   ],
   "source": [
    "49/224"
   ]
  },
  {
   "cell_type": "code",
   "execution_count": 97,
   "metadata": {},
   "outputs": [
    {
     "data": {
      "text/plain": [
       "0.18403908794788273"
      ]
     },
     "execution_count": 97,
     "metadata": {},
     "output_type": "execute_result"
    }
   ],
   "source": [
    "113/614"
   ]
  },
  {
   "cell_type": "code",
   "execution_count": 98,
   "metadata": {},
   "outputs": [
    {
     "name": "stdout",
     "output_type": "stream",
     "text": [
      "male yes: 54 male no:232 fe_yes:148 fe_no:566\n"
     ]
    },
    {
     "data": {
      "image/png": "[encoded data removed]",
      "text/plain": [
       "<Figure size 432x288 with 1 Axes>"
      ]
     },
     "metadata": {},
     "output_type": "display_data"
    }
   ],
   "source": [
    "gend(x_test[:,4].reshape(-1),y_test,'gender')"
   ]
  },
  {
   "cell_type": "code",
   "execution_count": 99,
   "metadata": {},
   "outputs": [
    {
     "data": {
      "text/plain": [
       "0.23275862068965517"
      ]
     },
     "execution_count": 99,
     "metadata": {},
     "output_type": "execute_result"
    }
   ],
   "source": [
    "54/232"
   ]
  },
  {
   "cell_type": "code",
   "execution_count": 100,
   "metadata": {},
   "outputs": [
    {
     "data": {
      "text/plain": [
       "0.26618705035971224"
      ]
     },
     "execution_count": 100,
     "metadata": {},
     "output_type": "execute_result"
    }
   ],
   "source": [
    "148/556"
   ]
  },
  {
   "cell_type": "code",
   "execution_count": null,
   "metadata": {
    "collapsed": true
   },
   "outputs": [],
   "source": []
  }
 ],
 "metadata": {
  "kernelspec": {
   "display_name": "Python 3",
   "language": "python",
   "name": "python3"
  },
  "language_info": {
   "codemirror_mode": {
    "name": "ipython",
    "version": 3
   },
   "file_extension": ".py",
   "mimetype": "text/x-python",
   "name": "python",
   "nbconvert_exporter": "python",
   "pygments_lexer": "ipython3",
   "version": "3.6.9"
  }
 },
 "nbformat": 4,
 "nbformat_minor": 2
}
